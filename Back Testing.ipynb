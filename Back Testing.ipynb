{
 "cells": [
  {
   "cell_type": "code",
   "execution_count": null,
   "metadata": {},
   "outputs": [],
   "source": [
    "import talib\n",
    "import pandas as pd\n",
    "import numpy as np\n",
    "import matplotlib as mpl\n",
    "import matplotlib.pyplot as plt"
   ]
  },
  {
   "cell_type": "code",
   "execution_count": null,
   "metadata": {},
   "outputs": [],
   "source": [
    "data = pd.read_csv(r'C:\\Users\\Deekshant\\Desktop\\FOX\\backtesting\\data\\dummy.csv')\n",
    "# data.drop('Unnamed: 0',axis=1,inplace=True)\n",
    "data['date'] = pd.to_datetime(data['Gmt time'])\n",
    "data.rename({'open':'Open','high':'High','low':'Low','close':'Close'},axis=1,inplace=True)\n",
    "# data.set_index('date',inplace=True)"
   ]
  },
  {
   "cell_type": "code",
   "execution_count": null,
   "metadata": {},
   "outputs": [],
   "source": [
    "data = data.resample('15T').agg({'Open': 'first',\n",
    "                                 'High': 'max', \n",
    "                                 'Low': 'min', \n",
    "                                 'Close': 'last'})\n",
    "data.reset_index(inplace=True)"
   ]
  },
  {
   "cell_type": "code",
   "execution_count": null,
   "metadata": {},
   "outputs": [],
   "source": [
    "data['ema50'] = talib.EMA(data['Close'],50)\n",
    "data['ema100'] = talib.EMA(data['Close'],100)\n",
    "data['ema200'] = talib.EMA(data['Close'],200)"
   ]
  },
  {
   "cell_type": "code",
   "execution_count": null,
   "metadata": {},
   "outputs": [],
   "source": [
    "def EMA(df, base, target, period, alpha=False):\n",
    "    con = pd.concat([df[:period][base].rolling(window=period).mean(), df[period:][base]])\n",
    "    if (alpha == True):\n",
    "        df[target] = con.ewm(alpha=1 / period, adjust=False).mean()\n",
    "    else:\n",
    "        df[target] = con.ewm(span=period, adjust=False).mean()\n",
    "    df[target].fillna(0, inplace=True)\n",
    "    return df\n",
    "\n",
    "def ATR(df, period, ohlc=['open', 'high', 'low', 'close']):\n",
    "    atr = 'ATR_' + str(period)\n",
    "    if not 'TR' in df.columns:\n",
    "        df['h-l'] = df[ohlc[1]] - df[ohlc[2]]\n",
    "        df['h-yc'] = abs(df[ohlc[1]] - df[ohlc[3]].shift())\n",
    "        df['l-yc'] = abs(df[ohlc[2]] - df[ohlc[3]].shift())\n",
    "        df['TR'] = df[['h-l', 'h-yc', 'l-yc']].max(axis=1)\n",
    "        df.drop(['h-l', 'h-yc', 'l-yc'], inplace=True, axis=1)\n",
    "    EMA(df, 'TR', atr, period, alpha=True)\n",
    "    return df\n",
    "\n",
    "def SuperTrend(df, period, multiplier, ohlc=['Open', 'High', 'Low', 'Close']):\n",
    "    ATR(df, period, ohlc=ohlc)\n",
    "    atr = 'ATR_' + str(period)\n",
    "    st = 'ST' #+ str(period) + '_' + str(multiplier)\n",
    "    stx = 'STX' #  + str(period) + '_' + str(multiplier)\n",
    "\n",
    "    # Compute basic upper and lower bands\n",
    "    df['basic_ub'] = (df[ohlc[1]] + df[ohlc[2]]) / 2 + multiplier * df[atr]\n",
    "    df['basic_lb'] = (df[ohlc[1]] + df[ohlc[2]]) / 2 - multiplier * df[atr]\n",
    "\n",
    "    # Compute final upper and lower bands\n",
    "    df['final_ub'] = 0.00\n",
    "    df['final_lb'] = 0.00\n",
    "    for i in range(period, len(df)):\n",
    "        df['final_ub'].iat[i] = df['basic_ub'].iat[i] if df['basic_ub'].iat[i] < df['final_ub'].iat[i - 1] or \\\n",
    "                                                         df[ohlc[3]].iat[i - 1] > df['final_ub'].iat[i - 1] else \\\n",
    "        df['final_ub'].iat[i - 1]\n",
    "        df['final_lb'].iat[i] = df['basic_lb'].iat[i] if df['basic_lb'].iat[i] > df['final_lb'].iat[i - 1] or \\\n",
    "                                                         df[ohlc[3]].iat[i - 1] < df['final_lb'].iat[i - 1] else \\\n",
    "        df['final_lb'].iat[i - 1]\n",
    "\n",
    "    # Set the Supertrend value\n",
    "    df[st] = 0.00\n",
    "    for i in range(period, len(df)):\n",
    "        df[st].iat[i] = df['final_ub'].iat[i] if df[st].iat[i - 1] == df['final_ub'].iat[i - 1] and df[ohlc[3]].iat[\n",
    "            i] <= df['final_ub'].iat[i] else \\\n",
    "            df['final_lb'].iat[i] if df[st].iat[i - 1] == df['final_ub'].iat[i - 1] and df[ohlc[3]].iat[i] > \\\n",
    "                                     df['final_ub'].iat[i] else \\\n",
    "                df['final_lb'].iat[i] if df[st].iat[i - 1] == df['final_lb'].iat[i - 1] and df[ohlc[3]].iat[i] >= \\\n",
    "                                         df['final_lb'].iat[i] else \\\n",
    "                    df['final_ub'].iat[i] if df[st].iat[i - 1] == df['final_lb'].iat[i - 1] and df[ohlc[3]].iat[i] < \\\n",
    "                                             df['final_lb'].iat[i] else 0.00\n",
    "\n",
    "        # Mark the trend direction up/down\n",
    "    df[stx] = np.where((df[st] > 0.00), np.where((df[ohlc[3]] < df[st]), 'down', 'up'), np.NaN)\n",
    "\n",
    "    # Remove basic and final bands from the columns\n",
    "    df.drop(['basic_ub', 'basic_lb', 'final_ub', 'final_lb'], inplace=True, axis=1)\n",
    "\n",
    "    df.fillna(0, inplace=True)\n",
    "    return df\n",
    "\n",
    "data = SuperTrend(data,7,3)"
   ]
  },
  {
   "cell_type": "code",
   "execution_count": null,
   "metadata": {},
   "outputs": [],
   "source": [
    "data.drop(['TR','ATR_7'],axis=1,inplace=True)"
   ]
  },
  {
   "cell_type": "code",
   "execution_count": null,
   "metadata": {},
   "outputs": [],
   "source": [
    "dataUp = ((data['ema50']>data['ema100']) & (data['ema100']>data['ema200']) & (data['STX']=='up'))\n",
    "dataDown = ((data['ema50']<data['ema100']) & (data['ema100']<data['ema200']) & (data['STX']=='down'))"
   ]
  },
  {
   "cell_type": "code",
   "execution_count": null,
   "metadata": {},
   "outputs": [],
   "source": [
    "data['Position'] = np.where(dataUp,1,np.where(dataDown,-1,0))\n",
    "data['Change'] = data['Close'] - data['Close'].shift()\n",
    "data['Performance'] = data['Position'].shift() * data['Change']"
   ]
  },
  {
   "cell_type": "code",
   "execution_count": null,
   "metadata": {},
   "outputs": [],
   "source": [
    "price_data = data.copy()"
   ]
  },
  {
   "cell_type": "code",
   "execution_count": null,
   "metadata": {},
   "outputs": [],
   "source": [
    "#price_data['Position_Change'] = price_data['Position'].diff()\n",
    "price_data['Long_Position'] = np.where(price_data['Position'] == 1, 1, 0)\n",
    "price_data['Short_Position'] = np.where(price_data['Position'] == -1, 1, 0)\n",
    "price_data['Long_Position'] = price_data['Long_Position'].diff()\n",
    "price_data['Short_Position'] = price_data['Short_Position'].diff()"
   ]
  },
  {
   "cell_type": "code",
   "execution_count": null,
   "metadata": {},
   "outputs": [],
   "source": [
    "# Marking Entry prices for all eligible running positions (long)\n",
    "price_data['Long_Open_Price'] = np.where(price_data['Long_Position'] == 1, price_data['Close'], np.where(price_data['Long_Position'] == -1, -np.inf, np.nan))\n",
    "price_data['Long_Open_Price'] = price_data['Long_Open_Price'].shift()\n",
    "price_data['Long_Open_Price'] = price_data['Long_Open_Price'].ffill()\n",
    "price_data['Long_Open_Price'] = price_data['Long_Open_Price'].replace(-np.inf, np.nan)\n",
    "\n",
    "# Marking Entry prices for all eligible running positions (short)\n",
    "price_data['Short_Open_Price'] = np.where(price_data['Short_Position'] == 1, price_data['Close'], np.where(price_data['Short_Position'] == -1, -np.inf, np.nan))\n",
    "price_data['Short_Open_Price'] = price_data['Short_Open_Price'].shift()\n",
    "price_data['Short_Open_Price'] = price_data['Short_Open_Price'].ffill()\n",
    "price_data['Short_Open_Price'] = price_data['Short_Open_Price'].replace(-np.inf, np.nan)"
   ]
  },
  {
   "cell_type": "code",
   "execution_count": null,
   "metadata": {},
   "outputs": [],
   "source": [
    "# Setting Target and SL\n",
    "# Target Points = 10 pips, SL = 5 pips\n",
    "target = 0.0010\n",
    "sl = 0.0005\n",
    "price_data['Long_Target_Price'] = price_data['Long_Open_Price'] + target\n",
    "price_data['Long_SL_Price'] = price_data['Long_Open_Price'] - sl\n",
    "\n",
    "\n",
    "price_data['Short_Target_Price'] = price_data['Short_Open_Price'] - target\n",
    "price_data['Short_SL_Price'] = price_data['Short_Open_Price'] + sl"
   ]
  },
  {
   "cell_type": "code",
   "execution_count": null,
   "metadata": {},
   "outputs": [],
   "source": [
    "# See where all is Target met or SL breached (long)\n",
    "price_data['Long_SL_Fired'] = np.where(price_data['Close'] < price_data['Long_SL_Price'], 1, 0)\n",
    "price_data['Long_Target_Fired'] = np.where(price_data['Close'] > price_data['Long_Target_Price'], 1, 0)\n",
    "\n",
    "# See where all is Target met or SL breached (short)\n",
    "price_data['Short_SL_Fired'] = np.where(price_data['Close'] > price_data['Short_SL_Price'], 1, 0)\n",
    "price_data['Short_Target_Fired'] = np.where(price_data['Close'] < price_data['Short_Target_Price'], 1, 0)"
   ]
  },
  {
   "cell_type": "code",
   "execution_count": null,
   "metadata": {},
   "outputs": [],
   "source": [
    "# Track all close positions (We would later try to identify the first one among them for any entry)\n",
    "price_data['Long_Updated_Position'] = price_data['Long_Position']\n",
    "price_data['Long_Updated_Position'] = np.where((price_data['Long_SL_Fired'] == 1) | (price_data['Long_Target_Fired'] == 1), -1, price_data['Long_Updated_Position'])\n",
    "\n",
    "# Set last point as compulsory exit\n",
    "price_data['Long_Updated_Position'].iloc[-1] = -1\n",
    "\n",
    "\n",
    "# Repeat the same for short\n",
    "price_data['Short_Updated_Position'] = price_data['Short_Position']\n",
    "price_data['Short_Updated_Position'] = np.where((price_data['Short_SL_Fired'] == 1) | (price_data['Short_Target_Fired'] == 1), -1, price_data['Short_Updated_Position'])\n",
    "\n",
    "# Set last point as compulsory exit\n",
    "price_data['Short_Updated_Position'].iloc[-1] = -1"
   ]
  },
  {
   "cell_type": "code",
   "execution_count": null,
   "metadata": {},
   "outputs": [],
   "source": [
    "# Identifying the first close position time for any entry and marking others invalid\n",
    "price_data['Long_Position_Working'] = price_data['Long_Updated_Position']\n",
    "price_data['Long_Position_Working'].replace(0, np.nan, inplace=True)\n",
    "price_data['Long_Position_Working'].ffill(inplace=True)\n",
    "price_data['Long_Position_Working'] = price_data['Long_Position_Working'].diff()\n",
    "\n",
    "# Valid closes would have the diff value as -2. (The one with Open just before --> Diff: (-1) - 1 = -2)\n",
    "invalid_exits_index = (price_data['Long_Updated_Position'] == -1) & (price_data['Long_Position_Working'] != -2)\n",
    "price_data['Long_Updated_Position'][invalid_exits_index] = 0\n",
    "\n",
    "\n",
    "# Repeat the same for short\n",
    "# Identifying the first close position time for any entry and marking others invalid\n",
    "price_data['Short_Position_Working'] = price_data['Short_Updated_Position']\n",
    "price_data['Short_Position_Working'].replace(0, np.nan, inplace=True)\n",
    "price_data['Short_Position_Working'].ffill(inplace=True)\n",
    "price_data['Short_Position_Working'] = price_data['Short_Position_Working'].diff()\n",
    "\n",
    "# Valid closes would have the diff value as -2. (The one with Open just before --> Diff: (-1) - 1 = -2)\n",
    "invalid_exits_index = (price_data['Short_Updated_Position'] == -1) & (price_data['Short_Position_Working'] != -2)\n",
    "price_data['Short_Updated_Position'][invalid_exits_index] = 0"
   ]
  },
  {
   "cell_type": "code",
   "execution_count": null,
   "metadata": {},
   "outputs": [],
   "source": [
    "# Update close prices\n",
    "price_data['Long_Closed_Price'] = np.where(price_data['Long_Updated_Position'] == -1, price_data['Close'], np.nan)\n",
    "\n",
    "# Was Target hit?\n",
    "target_hit_index = (price_data['Long_Updated_Position'] == -1) & (price_data['Long_Target_Fired'] == 1)\n",
    "price_data['Long_Closed_Price'][target_hit_index] = price_data['Long_Target_Price']\n",
    "\n",
    "# Was SL hit?\n",
    "sl_hit_index = (price_data['Long_Updated_Position'] == -1) & (price_data['Long_SL_Fired'] == 1)\n",
    "price_data['Long_Closed_Price'][sl_hit_index] = price_data['Long_SL_Price']\n",
    "\n",
    "\n",
    "## Repeat the same for Short\n",
    "# Update close prices\n",
    "price_data['Short_Closed_Price'] = np.where(price_data['Short_Updated_Position'] == -1, price_data['Close'], np.nan)\n",
    "\n",
    "# Was Target hit?\n",
    "target_hit_index = (price_data['Short_Updated_Position'] == -1) & (price_data['Short_Target_Fired'] == 1)\n",
    "price_data['Short_Closed_Price'][target_hit_index] = price_data['Short_Target_Price']\n",
    "\n",
    "# Was SL hit?\n",
    "sl_hit_index = (price_data['Short_Updated_Position'] == -1) & (price_data['Short_SL_Fired'] == 1)\n",
    "price_data['Short_Closed_Price'][sl_hit_index] = price_data['Short_SL_Price']"
   ]
  },
  {
   "cell_type": "code",
   "execution_count": null,
   "metadata": {},
   "outputs": [],
   "source": [
    "price_data[price_data['Short_Updated_Position'] != 0].head()"
   ]
  },
  {
   "cell_type": "code",
   "execution_count": null,
   "metadata": {},
   "outputs": [],
   "source": [
    "# Update PnL Column\n",
    "price_data['PnL'] = np.where(price_data['Long_Updated_Position'] == -1, price_data['Long_Closed_Price'] - price_data['Long_Open_Price'], np.where(price_data['Short_Updated_Position'] == -1, - price_data['Short_Closed_Price'] + price_data['Short_Open_Price'], np.nan))\n"
   ]
  },
  {
   "cell_type": "code",
   "execution_count": null,
   "metadata": {},
   "outputs": [],
   "source": [
    "# Total PnL\n",
    "sum(price_data[price_data['PnL'].notna()]['PnL'])"
   ]
  },
  {
   "cell_type": "code",
   "execution_count": null,
   "metadata": {},
   "outputs": [],
   "source": [
    "price_data[['Long_Open_Price', 'Long_Closed_Price', 'Short_Open_Price', 'Short_Closed_Price', 'PnL']][price_data['PnL'].notna()]"
   ]
  },
  {
   "cell_type": "code",
   "execution_count": null,
   "metadata": {},
   "outputs": [],
   "source": [
    "len(price_data[price_data['PnL'].notna()])"
   ]
  }
 ],
 "metadata": {
  "kernelspec": {
   "display_name": "Python 3",
   "language": "python",
   "name": "python3"
  },
  "language_info": {
   "codemirror_mode": {
    "name": "ipython",
    "version": 3
   },
   "file_extension": ".py",
   "mimetype": "text/x-python",
   "name": "python",
   "nbconvert_exporter": "python",
   "pygments_lexer": "ipython3",
   "version": "3.7.4"
  }
 },
 "nbformat": 4,
 "nbformat_minor": 4
}
